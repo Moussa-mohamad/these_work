{
 "cells": [
  {
   "cell_type": "code",
   "execution_count": 3,
   "id": "2abe2b69-814f-4a09-a341-619e5a1169f0",
   "metadata": {},
   "outputs": [
    {
     "name": "stdout",
     "output_type": "stream",
     "text": [
      "After removing element 13:\n",
      "[[1, 2, 3, 4, 5], [6, 7, 8, 9, 10], [11, 12, 13, 14], [16, 17, 18, 19, 20]]\n",
      "After removing element at index 2:\n",
      "[[1, 2, 3, 4, 5], [6, 7, 8, 9, 10], [11, 12, 14], [16, 17, 18, 19, 20]]\n"
     ]
    }
   ],
   "source": [
    "# Original list of lists\n",
    "my_list = [\n",
    "    [1, 2, 3, 4, 5],\n",
    "    [6, 7, 8, 9, 10],\n",
    "    [11, 12, 13, 14, 15],\n",
    "    [16, 17, 18, 19, 20]\n",
    "]\n",
    "\n",
    "# Access the third sub-list\n",
    "third_sub_list = my_list[2]\n",
    "\n",
    "# Remove the element 13\n",
    "third_sub_list.remove(15)\n",
    "\n",
    "# Print the updated list\n",
    "print(\"After removing element 13:\")\n",
    "print(my_list)\n",
    "\n",
    "# Access the third sub-list again (if you want to perform the second operation separately)\n",
    "third_sub_list = my_list[2]\n",
    "\n",
    "# Remove the element at index 2\n",
    "third_sub_list.pop(2)\n",
    "\n",
    "# Print the updated list\n",
    "print(\"After removing element at index 2:\")\n",
    "print(my_list)\n"
   ]
  },
  {
   "cell_type": "code",
   "execution_count": 8,
   "id": "19498091-2250-4687-8917-39d5c6496781",
   "metadata": {},
   "outputs": [
    {
     "ename": "ValueError",
     "evalue": "list.remove(x): x not in list",
     "output_type": "error",
     "traceback": [
      "\u001b[1;31m---------------------------------------------------------------------------\u001b[0m",
      "\u001b[1;31mValueError\u001b[0m                                Traceback (most recent call last)",
      "Cell \u001b[1;32mIn[8], line 2\u001b[0m\n\u001b[0;32m      1\u001b[0m A \u001b[38;5;241m=\u001b[39m [[\u001b[38;5;241m1\u001b[39m,\u001b[38;5;241m2\u001b[39m,\u001b[38;5;241m3\u001b[39m,\u001b[38;5;241m4\u001b[39m] , [\u001b[38;5;241m5\u001b[39m,\u001b[38;5;241m6\u001b[39m] ]\n\u001b[1;32m----> 2\u001b[0m \u001b[43mA\u001b[49m\u001b[43m[\u001b[49m\u001b[38;5;241;43m0\u001b[39;49m\u001b[43m]\u001b[49m\u001b[38;5;241;43m.\u001b[39;49m\u001b[43mremove\u001b[49m\u001b[43m(\u001b[49m\u001b[38;5;241;43m6\u001b[39;49m\u001b[43m)\u001b[49m\n\u001b[0;32m      3\u001b[0m \u001b[38;5;28mprint\u001b[39m(A)\n",
      "\u001b[1;31mValueError\u001b[0m: list.remove(x): x not in list"
     ]
    }
   ],
   "source": [
    "A = [[1,2,3,4] , [5,6] ]\n",
    "if \n",
    "A[0].remove(6)\n",
    "print(A)"
   ]
  },
  {
   "cell_type": "code",
   "execution_count": 23,
   "id": "49f4f27c-d3fe-419c-a52c-c06c3a9b1124",
   "metadata": {},
   "outputs": [],
   "source": [
    "A = {1:5, 'c':6}\n",
    "if 'a' in A:\n",
    "    print(\"yes\")"
   ]
  },
  {
   "cell_type": "code",
   "execution_count": 22,
   "id": "6030d432-cdc6-4ac0-b279-9860500b0a31",
   "metadata": {},
   "outputs": [
    {
     "name": "stdout",
     "output_type": "stream",
     "text": [
      "{'a': 5, 'c': 6, '1#2': 6}\n"
     ]
    }
   ],
   "source": [
    "B = \"#\".join(map(str, [1,2]))\n",
    "A[B] = 6\n",
    "print(A)"
   ]
  },
  {
   "cell_type": "code",
   "execution_count": 26,
   "id": "368df1ac-80f6-42de-bb12-b66094430ffe",
   "metadata": {},
   "outputs": [
    {
     "name": "stdout",
     "output_type": "stream",
     "text": [
      "[[1, 2]]\n"
     ]
    }
   ],
   "source": [
    "A = []\n",
    "A.append([1,2])\n",
    "print(A)"
   ]
  },
  {
   "cell_type": "code",
   "execution_count": 29,
   "id": "8ebbdfad-52cc-4319-8ecc-e562d68f8a83",
   "metadata": {},
   "outputs": [
    {
     "name": "stdout",
     "output_type": "stream",
     "text": [
      "[1]\n"
     ]
    }
   ],
   "source": [
    "A = [1]\n",
    "for i in A:\n",
    "    print(A)"
   ]
  },
  {
   "cell_type": "code",
   "execution_count": 1,
   "id": "a4064a00-f313-48c0-a051-82a4df89dc96",
   "metadata": {},
   "outputs": [
    {
     "name": "stdout",
     "output_type": "stream",
     "text": [
      "2\n"
     ]
    }
   ],
   "source": [
    "for i in range(5):\n",
    "    if i == 2:\n",
    "        break\n",
    "print(i)"
   ]
  },
  {
   "cell_type": "code",
   "execution_count": 2,
   "id": "19a969a6-6abf-4f8c-bed0-aa41a0be8360",
   "metadata": {},
   "outputs": [
    {
     "name": "stdout",
     "output_type": "stream",
     "text": [
      "[1, 1, 2, 3, 3, 4, 5, 5, 5, 6, 9]\n",
      "[3, 1, 4, 1, 5, 9, 2, 6, 5, 3, 5]\n"
     ]
    }
   ],
   "source": [
    "# Example list\n",
    "numbers = [3, 1, 4, 1, 5, 9, 2, 6, 5, 3, 5]\n",
    "\n",
    "# Sorting the list in ascending order\n",
    "sorted_numbers = sorted(numbers)\n",
    "\n",
    "# Print the sorted list\n",
    "print(sorted_numbers)  # Output: [1, 1, 2, 3, 3, 4, 5, 5, 5, 6, 9]\n",
    "\n",
    "# Print the original list to show it remains unchanged\n",
    "print(numbers)  # Output: [3, 1, 4, 1, 5, 9, 2, 6, 5, 3, 5]\n"
   ]
  },
  {
   "cell_type": "code",
   "execution_count": 3,
   "id": "654f607d-17ef-4f2a-ab62-12dfd202764a",
   "metadata": {},
   "outputs": [
    {
     "name": "stdout",
     "output_type": "stream",
     "text": [
      "[1, 1, 2, 3, 3, 4, 5, 5, 5, 6, 9]\n"
     ]
    }
   ],
   "source": [
    "# Example list\n",
    "numbers = [3, 1, 4, 1, 5, 9, 2, 6, 5, 3, 5]\n",
    "\n",
    "# Sorting the list in ascending order\n",
    "numbers.sort()\n",
    "\n",
    "# Print the sorted list\n",
    "print(numbers)  # Output: [1, 1, 2, 3, 3, 4, 5, 5, 5, 6, 9]\n"
   ]
  },
  {
   "cell_type": "code",
   "execution_count": 7,
   "id": "174647ef-9e14-4dac-b838-d8e41478100b",
   "metadata": {},
   "outputs": [],
   "source": [
    "A = [[1,2]]\n",
    "if [1,2] not in A:\n",
    "    print(\"false\")"
   ]
  },
  {
   "cell_type": "code",
   "execution_count": 10,
   "id": "54bfb2c6-d5ff-4e80-bea0-44c9c08d4e05",
   "metadata": {},
   "outputs": [
    {
     "name": "stdout",
     "output_type": "stream",
     "text": [
      "[0 0 0 1 2 0 2 3 0 3 5 0 4 4 0]\n"
     ]
    }
   ],
   "source": [
    "import numpy as np\n",
    "control_points = [\n",
    "    [0, 0, 0],\n",
    "    [1, 2, 0],\n",
    "    [2, 3, 0],\n",
    "    [3, 5, 0],\n",
    "    [4, 4, 0]\n",
    "]\n",
    "\n",
    "# Flatten control points for Gmsh\n",
    "flat_control_points = np.array(control_points).flatten()\n",
    "print(flat_control_points)"
   ]
  },
  {
   "cell_type": "code",
   "execution_count": 13,
   "id": "a66e5ab8-01d0-47c7-bb09-4f536a6eb909",
   "metadata": {},
   "outputs": [
    {
     "ename": "ModuleNotFoundError",
     "evalue": "No module named 'exceptions'",
     "output_type": "error",
     "traceback": [
      "\u001b[1;31m---------------------------------------------------------------------------\u001b[0m",
      "\u001b[1;31mModuleNotFoundError\u001b[0m                       Traceback (most recent call last)",
      "Cell \u001b[1;32mIn[13], line 1\u001b[0m\n\u001b[1;32m----> 1\u001b[0m \u001b[38;5;28;01mfrom\u001b[39;00m \u001b[38;5;21;01mdocx\u001b[39;00m \u001b[38;5;28;01mimport\u001b[39;00m Document\n\u001b[0;32m      3\u001b[0m \u001b[38;5;66;03m# Create a new Document\u001b[39;00m\n\u001b[0;32m      4\u001b[0m doc \u001b[38;5;241m=\u001b[39m Document()\n",
      "File \u001b[1;32mc:\\users\\mmoussa\\appdata\\local\\programs\\python\\python38\\lib\\site-packages\\docx.py:30\u001b[0m\n\u001b[0;32m     27\u001b[0m \u001b[38;5;28;01mexcept\u001b[39;00m \u001b[38;5;167;01mImportError\u001b[39;00m:\n\u001b[0;32m     28\u001b[0m     TAGS \u001b[38;5;241m=\u001b[39m {}\n\u001b[1;32m---> 30\u001b[0m \u001b[38;5;28;01mfrom\u001b[39;00m \u001b[38;5;21;01mexceptions\u001b[39;00m \u001b[38;5;28;01mimport\u001b[39;00m \u001b[38;5;167;01mPendingDeprecationWarning\u001b[39;00m\n\u001b[0;32m     31\u001b[0m \u001b[38;5;28;01mfrom\u001b[39;00m \u001b[38;5;21;01mwarnings\u001b[39;00m \u001b[38;5;28;01mimport\u001b[39;00m warn\n\u001b[0;32m     33\u001b[0m \u001b[38;5;28;01mimport\u001b[39;00m \u001b[38;5;21;01mlogging\u001b[39;00m\n",
      "\u001b[1;31mModuleNotFoundError\u001b[0m: No module named 'exceptions'"
     ]
    }
   ],
   "source": [
    "from docx import Document\n",
    "\n",
    "# Create a new Document\n",
    "doc = Document()\n",
    "\n",
    "# Add your address\n",
    "doc.add_paragraph(\"[Votre Nom]\\n[Votre Adresse]\\n[Code Postal] [Ville]\\n[Email]\\n[Numéro de Téléphone]\")\n",
    "doc.add_paragraph(\"Date : [Date]\")\n",
    "\n",
    "# Add Consulate address\n",
    "doc.add_paragraph(\"À l'attention de\\nMonsieur/Madame le Consul\\nConsulat de France\\n[Adresse du Consulat]\\n[Code Postal] [Ville]\\nLiban\")\n",
    "\n",
    "# Add the subject\n",
    "doc.add_paragraph(\"Objet : Lettre de soutien pour la demande de visa étudiant de Monsieur Ghayth [Nom de famille]\")\n",
    "\n",
    "# Add the body of the letter\n",
    "body = \"\"\"\n",
    "Madame, Monsieur,\n",
    "\n",
    "Par la présente, je me permets de vous adresser cette lettre de soutien en faveur de la demande de visa étudiant de Monsieur Ghayth [Nom de famille], originaire de [Ville d'origine de Ghayth], Liban.\n",
    "\n",
    "Je tiens à vous informer que je m'engage à prendre en charge Monsieur Ghayth durant son séjour en France pour ses études. Monsieur Ghayth est un proche de Monsieur Adib Degrgham, un ami très cher à moi, et originaire de la même ville que Ghayth. Monsieur Degrgham réside actuellement à Rennes, en France, où il est bien intégré et connu pour sa fiabilité et son sérieux.\n",
    "\n",
    "Monsieur Ghayth a été accepté pour poursuivre ses études en [Nom du programme d'études] à [Nom de l'établissement d'enseignement] en France. En tant qu'ami proche de Monsieur Degrgham et en raison de notre relation de confiance, je m'engage à apporter tout le soutien financier nécessaire à Monsieur Ghayth pour ses frais de vie, son logement et ses études pendant toute la durée de son séjour en France.\n",
    "\n",
    "Je suis convaincu que Monsieur Ghayth tirera un grand bénéfice de son expérience académique en France et qu'il respectera toutes les conditions de son visa. De plus, je suis prêt à fournir toutes les preuves financières nécessaires pour démontrer ma capacité à subvenir à ses besoins.\n",
    "\n",
    "Je vous remercie par avance de l’attention que vous porterez à cette demande et reste à votre disposition pour toute information complémentaire ou pour tout entretien que vous jugeriez nécessaire.\n",
    "\n",
    "Je vous prie d’agréer, Madame, Monsieur le Consul, l’expression de mes salutations distinguées.\n",
    "\"\"\"\n",
    "doc.add_paragraph(body)\n",
    "\n",
    "# Add closing\n",
    "doc.add_paragraph(\"[Votre Nom]\\n[Signature]\")\n",
    "\n",
    "# Save the document\n",
    "doc.save(\"C:\\\\Users\\\\mmoussa\\\\Desktop\\\\prise_en_charge_étudiant\\\\lettre_soutien_visa.docx\")\n",
    "\n",
    "print(\"Document created successfully.\")\n"
   ]
  },
  {
   "cell_type": "code",
   "execution_count": 12,
   "id": "2d55b547-4644-4246-ab8d-84b1cbb525d4",
   "metadata": {},
   "outputs": [
    {
     "name": "stdout",
     "output_type": "stream",
     "text": [
      "Collecting docx\n",
      "  Downloading docx-0.2.4.tar.gz (54 kB)\n",
      "     ---------------------------------------- 0.0/54.9 kB ? eta -:--:--\n",
      "     ---------------------------------------- 54.9/54.9 kB 3.0 MB/s eta 0:00:00\n",
      "  Installing build dependencies: started\n",
      "  Installing build dependencies: finished with status 'done'\n",
      "  Getting requirements to build wheel: started\n",
      "  Getting requirements to build wheel: finished with status 'done'\n",
      "  Preparing metadata (pyproject.toml): started\n",
      "  Preparing metadata (pyproject.toml): finished with status 'done'\n",
      "Collecting lxml (from docx)\n",
      "  Downloading lxml-5.2.2-cp38-cp38-win_amd64.whl.metadata (3.5 kB)\n",
      "Requirement already satisfied: Pillow>=2.0 in c:\\users\\mmoussa\\appdata\\local\\programs\\python\\python38\\lib\\site-packages (from docx) (10.1.0)\n",
      "Downloading lxml-5.2.2-cp38-cp38-win_amd64.whl (3.8 MB)\n",
      "   ---------------------------------------- 0.0/3.8 MB ? eta -:--:--\n",
      "    --------------------------------------- 0.1/3.8 MB ? eta -:--:--\n",
      "   --- ------------------------------------ 0.3/3.8 MB 4.2 MB/s eta 0:00:01\n",
      "   ----- ---------------------------------- 0.5/3.8 MB 4.2 MB/s eta 0:00:01\n",
      "   -------- ------------------------------- 0.8/3.8 MB 4.6 MB/s eta 0:00:01\n",
      "   ------------ --------------------------- 1.2/3.8 MB 5.5 MB/s eta 0:00:01\n",
      "   -------------- ------------------------- 1.4/3.8 MB 5.0 MB/s eta 0:00:01\n",
      "   ----------------- ---------------------- 1.6/3.8 MB 5.2 MB/s eta 0:00:01\n",
      "   --------------------- ------------------ 2.0/3.8 MB 5.6 MB/s eta 0:00:01\n",
      "   ---------------------- ----------------- 2.2/3.8 MB 5.4 MB/s eta 0:00:01\n",
      "   ----------------------- ---------------- 2.2/3.8 MB 4.6 MB/s eta 0:00:01\n",
      "   ------------------------- -------------- 2.4/3.8 MB 4.6 MB/s eta 0:00:01\n",
      "   ----------------------------- ---------- 2.8/3.8 MB 5.0 MB/s eta 0:00:01\n",
      "   --------------------------------- ------ 3.2/3.8 MB 5.1 MB/s eta 0:00:01\n",
      "   ------------------------------------ --- 3.5/3.8 MB 5.2 MB/s eta 0:00:01\n",
      "   ---------------------------------------  3.8/3.8 MB 5.4 MB/s eta 0:00:01\n",
      "   ---------------------------------------- 3.8/3.8 MB 5.0 MB/s eta 0:00:00\n",
      "Building wheels for collected packages: docx\n",
      "  Building wheel for docx (pyproject.toml): started\n",
      "  Building wheel for docx (pyproject.toml): finished with status 'done'\n",
      "  Created wheel for docx: filename=docx-0.2.4-py3-none-any.whl size=53902 sha256=540c9ff34e5066370ffba2f9489b8a75061b597342f322274816eeac512f6b61\n",
      "  Stored in directory: c:\\users\\mmoussa\\appdata\\local\\pip\\cache\\wheels\\78\\ae\\2e\\5ce789557ca59281a463dabe9d6522e429be240322148e5379\n",
      "Successfully built docx\n",
      "Installing collected packages: lxml, docx\n",
      "Successfully installed docx-0.2.4 lxml-5.2.2\n",
      "Note: you may need to restart the kernel to use updated packages.\n"
     ]
    },
    {
     "name": "stderr",
     "output_type": "stream",
     "text": [
      "\n",
      "[notice] A new release of pip is available: 23.3.2 -> 24.1.2\n",
      "[notice] To update, run: c:\\users\\mmoussa\\appdata\\local\\programs\\python\\python38\\python.exe -m pip install --upgrade pip\n"
     ]
    }
   ],
   "source": [
    "%pip install docx"
   ]
  },
  {
   "cell_type": "code",
   "execution_count": 15,
   "id": "2b08482f-f9c3-46ec-836f-e66d57da422b",
   "metadata": {},
   "outputs": [
    {
     "ename": "TypeError",
     "evalue": "exceptions must derive from BaseException",
     "output_type": "error",
     "traceback": [
      "\u001b[1;31m---------------------------------------------------------------------------\u001b[0m",
      "\u001b[1;31mTypeError\u001b[0m                                 Traceback (most recent call last)",
      "Cell \u001b[1;32mIn[15], line 3\u001b[0m\n\u001b[0;32m      1\u001b[0m x \u001b[38;5;241m=\u001b[39m \u001b[38;5;241m1\u001b[39m\n\u001b[0;32m      2\u001b[0m \u001b[38;5;28;01mif\u001b[39;00m x \u001b[38;5;241m==\u001b[39m\u001b[38;5;241m1\u001b[39m:\n\u001b[1;32m----> 3\u001b[0m     \u001b[38;5;28;01mraise\u001b[39;00m(\u001b[38;5;124m\"\u001b[39m\u001b[38;5;124merroorrrr\u001b[39m\u001b[38;5;124m\"\u001b[39m)\n",
      "\u001b[1;31mTypeError\u001b[0m: exceptions must derive from BaseException"
     ]
    }
   ],
   "source": [
    "x = 1\n",
    "if x ==1:\n",
    "    raise(\"erroorrrr\")"
   ]
  },
  {
   "cell_type": "code",
   "execution_count": 17,
   "id": "be3e6f32-ec7d-4d16-8384-5b8544190279",
   "metadata": {},
   "outputs": [],
   "source": [
    "A = 2 % 3"
   ]
  },
  {
   "cell_type": "code",
   "execution_count": 18,
   "id": "1b995a8f-6edc-40b0-a2ff-d27279fe3be4",
   "metadata": {},
   "outputs": [
    {
     "name": "stdout",
     "output_type": "stream",
     "text": [
      "Sorted vector1: [1, 2, 3, 4, 5]\n",
      "Permutation indices: [1, 2, 0, 4, 3]\n",
      "Reorganized vector2: ['b', 'c', 'a', 'e', 'd']\n"
     ]
    }
   ],
   "source": [
    "import rhinoscriptsyntax as rs\n",
    "\n",
    "def sort_and_get_indices(vector):\n",
    "    \"\"\"Sorts the vector and returns the sorted vector along with the original indices in sorted order.\"\"\"\n",
    "    sorted_vector_with_indices = sorted(enumerate(vector), key=lambda x: x[1])\n",
    "    sorted_vector = [x[1] for x in sorted_vector_with_indices]\n",
    "    indices = [x[0] for x in sorted_vector_with_indices]\n",
    "    return sorted_vector, indices\n",
    "\n",
    "def apply_permutation(vector, indices):\n",
    "    \"\"\"Reorganizes the vector based on the given indices.\"\"\"\n",
    "    return [vector[i] for i in indices]\n",
    "\n",
    "# Example usage\n",
    "# Define two vectors\n",
    "vector1 = [3, 1, 2, 5, 4]\n",
    "vector2 = ['a', 'b', 'c', 'd', 'e']\n",
    "\n",
    "# Sort vector1 and get permutation indices\n",
    "sorted_vector1, indices = sort_and_get_indices(vector1)\n",
    "print(f\"Sorted vector1: {sorted_vector1}\")\n",
    "print(f\"Permutation indices: {indices}\")\n",
    "\n",
    "# Reorganize vector2 based on permutation indices\n",
    "sorted_vector2 = apply_permutation(vector2, indices)\n",
    "print(f\"Reorganized vector2: {sorted_vector2}\")\n"
   ]
  },
  {
   "cell_type": "code",
   "execution_count": 23,
   "id": "3c526505-c689-41f5-98aa-f487a517c2dc",
   "metadata": {},
   "outputs": [
    {
     "name": "stdout",
     "output_type": "stream",
     "text": [
      "[[]]\n",
      "[[1]]\n",
      "[[1], 1]\n"
     ]
    }
   ],
   "source": [
    "A = []\n",
    "A.append([])\n",
    "print(A)\n",
    "A[-1].extend([1])\n",
    "print(A)\n",
    "A.append(1)\n",
    "print(A)"
   ]
  },
  {
   "cell_type": "code",
   "execution_count": 25,
   "id": "8ff18851-067e-404c-949a-81e924ce3f47",
   "metadata": {},
   "outputs": [
    {
     "ename": "TypeError",
     "evalue": "list indices must be integers or slices, not tuple",
     "output_type": "error",
     "traceback": [
      "\u001b[1;31m---------------------------------------------------------------------------\u001b[0m",
      "\u001b[1;31mTypeError\u001b[0m                                 Traceback (most recent call last)",
      "Cell \u001b[1;32mIn[25], line 2\u001b[0m\n\u001b[0;32m      1\u001b[0m A \u001b[38;5;241m=\u001b[39m [\u001b[38;5;241m1\u001b[39m,\u001b[38;5;241m2\u001b[39m,\u001b[38;5;241m3\u001b[39m]\n\u001b[1;32m----> 2\u001b[0m A \u001b[38;5;241m=\u001b[39m \u001b[43mA\u001b[49m\u001b[43m[\u001b[49m\u001b[38;5;241;43m1\u001b[39;49m\u001b[43m,\u001b[49m\u001b[38;5;241;43m2\u001b[39;49m\u001b[43m]\u001b[49m\n",
      "\u001b[1;31mTypeError\u001b[0m: list indices must be integers or slices, not tuple"
     ]
    }
   ],
   "source": [
    "A = [1,2,3]\n",
    "A = A[1,2]"
   ]
  },
  {
   "cell_type": "code",
   "execution_count": 26,
   "id": "ab3af050-ce4c-4f00-a56a-8b166b64d159",
   "metadata": {},
   "outputs": [
    {
     "name": "stdout",
     "output_type": "stream",
     "text": [
      "(2, 3)\n"
     ]
    }
   ],
   "source": [
    "from operator import itemgetter\n",
    "\n",
    "A = [1, 2, 3]\n",
    "indices = [1, 2]\n",
    "selected_elements = itemgetter(*indices)(A)\n",
    "print(selected_elements)  # Output: (2, 3)\n"
   ]
  },
  {
   "cell_type": "code",
   "execution_count": 1,
   "id": "01d49ba1-9991-4052-8c25-54f3b56c7521",
   "metadata": {},
   "outputs": [
    {
     "ename": "ModuleNotFoundError",
     "evalue": "No module named 'cyipopt'",
     "output_type": "error",
     "traceback": [
      "\u001b[1;31m---------------------------------------------------------------------------\u001b[0m",
      "\u001b[1;31mModuleNotFoundError\u001b[0m                       Traceback (most recent call last)",
      "Cell \u001b[1;32mIn[1], line 3\u001b[0m\n\u001b[0;32m      1\u001b[0m \u001b[38;5;28;01mimport\u001b[39;00m \u001b[38;5;21;01mnumpy\u001b[39;00m \u001b[38;5;28;01mas\u001b[39;00m \u001b[38;5;21;01mnp\u001b[39;00m\n\u001b[0;32m      2\u001b[0m \u001b[38;5;28;01mfrom\u001b[39;00m \u001b[38;5;21;01mscipy\u001b[39;00m\u001b[38;5;21;01m.\u001b[39;00m\u001b[38;5;21;01msparse\u001b[39;00m \u001b[38;5;28;01mimport\u001b[39;00m coo_matrix\n\u001b[1;32m----> 3\u001b[0m \u001b[38;5;28;01mfrom\u001b[39;00m \u001b[38;5;21;01mcyipopt\u001b[39;00m \u001b[38;5;28;01mimport\u001b[39;00m minimize_ipopt\n\u001b[0;32m      5\u001b[0m \u001b[38;5;66;03m# Define the objective function\u001b[39;00m\n\u001b[0;32m      6\u001b[0m \u001b[38;5;28;01mdef\u001b[39;00m \u001b[38;5;21mobjective\u001b[39m(x):\n",
      "\u001b[1;31mModuleNotFoundError\u001b[0m: No module named 'cyipopt'"
     ]
    }
   ],
   "source": [
    "import numpy as np\n",
    "from scipy.sparse import coo_matrix\n",
    "from cyipopt import minimize_ipopt\n",
    "\n",
    "# Define the objective function\n",
    "def objective(x):\n",
    "    return (x[0] - 1)**2 + (x[1] - 2)**2\n",
    "\n",
    "# Define the gradient (first derivatives) of the objective function\n",
    "def gradient(x):\n",
    "    return np.array([2*(x[0] - 1), 2*(x[1] - 2)])\n",
    "\n",
    "# Define the constraints\n",
    "def constraints(x):\n",
    "    return np.array([x[0] + x[1] - 1])\n",
    "\n",
    "# Define the Jacobian of the constraints\n",
    "def jacobian(x):\n",
    "    return coo_matrix(np.array([[1, 1]]))\n",
    "\n",
    "# Define the Hessian of the Lagrangian\n",
    "def hessian(x, lagrange, obj_factor):\n",
    "    H = np.array([[2, 0], [0, 2]]) * obj_factor\n",
    "    return coo_matrix(H)\n",
    "\n",
    "# Define the sparsity pattern of the Hessian\n",
    "def hessianstructure():\n",
    "    return coo_matrix(np.array([[0, 0], [1, 1]]))\n",
    "\n",
    "# Initial guess\n",
    "x0 = np.array([0.5, 0.5])\n",
    "\n",
    "# Bounds on the variables\n",
    "bounds = [(0, None), (0, None)]\n",
    "\n",
    "# Constraints dictionary\n",
    "constraints_dict = {'type': 'eq',\n",
    "                    'fun': constraints,\n",
    "                    'jac': jacobian}\n",
    "\n",
    "# Solve the problem\n",
    "solution = minimize_ipopt(\n",
    "    fun=objective,\n",
    "    x0=x0,\n",
    "    jac=gradient,\n",
    "    constraints=constraints_dict,\n",
    "    bounds=bounds,\n",
    "    hess=hessian,\n",
    "    hessp=hessianstructure\n",
    ")\n",
    "\n",
    "print(\"Solution:\", solution.x)\n",
    "print(\"Objective value:\", solution.fun)\n"
   ]
  },
  {
   "cell_type": "code",
   "execution_count": 31,
   "id": "d67ccbdf-ba22-4fb4-8f6d-9a84984c2ba3",
   "metadata": {},
   "outputs": [
    {
     "name": "stdout",
     "output_type": "stream",
     "text": [
      "Collecting cyipopt\n",
      "  Downloading cyipopt-1.4.1.tar.gz (67 kB)\n",
      "     ---------------------------------------- 0.0/67.5 kB ? eta -:--:--\n",
      "     ---------------------------------------- 67.5/67.5 kB 1.8 MB/s eta 0:00:00\n",
      "  Installing build dependencies: started\n",
      "  Installing build dependencies: finished with status 'done'\n",
      "  Getting requirements to build wheel: started\n",
      "  Getting requirements to build wheel: finished with status 'error'\n",
      "Note: you may need to restart the kernel to use updated packages.\n"
     ]
    },
    {
     "name": "stderr",
     "output_type": "stream",
     "text": [
      "  error: subprocess-exited-with-error\n",
      "  \n",
      "  Getting requirements to build wheel did not run successfully.\n",
      "  exit code: 1\n",
      "  \n",
      "  [49 lines of output]\n",
      "  <string>:27: _DeprecatedInstaller: setuptools.installer and fetch_build_eggs are deprecated.\n",
      "  !!\n",
      "  \n",
      "          ********************************************************************************\n",
      "          Requirements should be satisfied by a PEP 517 installer.\n",
      "          If you are using pip, you can try `pip install --use-pep517`.\n",
      "          ********************************************************************************\n",
      "  \n",
      "  !!\n",
      "  WARNING: The wheel package is not available.\n",
      "  c:\\users\\mmoussa\\appdata\\local\\programs\\python\\python38\\python.exe: No module named pip\n",
      "  Traceback (most recent call last):\n",
      "    File \"C:\\Users\\mmoussa\\AppData\\Local\\Temp\\pip-build-env-07elwwkx\\overlay\\Lib\\site-packages\\setuptools\\installer.py\", line 101, in _fetch_build_egg_no_warn\n",
      "      subprocess.check_call(cmd)\n",
      "    File \"c:\\users\\mmoussa\\appdata\\local\\programs\\python\\python38\\lib\\subprocess.py\", line 364, in check_call\n",
      "      raise CalledProcessError(retcode, cmd)\n",
      "  subprocess.CalledProcessError: Command '['c:\\\\users\\\\mmoussa\\\\appdata\\\\local\\\\programs\\\\python\\\\python38\\\\python.exe', '-m', 'pip', '--disable-pip-version-check', 'wheel', '--no-deps', '-w', 'C:\\\\Users\\\\mmoussa\\\\AppData\\\\Local\\\\Temp\\\\tmpgfh1ut3d', '--quiet', 'numpy>=1.21.5']' returned non-zero exit status 1.\n",
      "  \n",
      "  The above exception was the direct cause of the following exception:\n",
      "  \n",
      "  Traceback (most recent call last):\n",
      "    File \"c:\\users\\mmoussa\\appdata\\local\\programs\\python\\python38\\lib\\site-packages\\pip\\_vendor\\pyproject_hooks\\_in_process\\_in_process.py\", line 353, in <module>\n",
      "      main()\n",
      "    File \"c:\\users\\mmoussa\\appdata\\local\\programs\\python\\python38\\lib\\site-packages\\pip\\_vendor\\pyproject_hooks\\_in_process\\_in_process.py\", line 335, in main\n",
      "      json_out['return_val'] = hook(**hook_input['kwargs'])\n",
      "    File \"c:\\users\\mmoussa\\appdata\\local\\programs\\python\\python38\\lib\\site-packages\\pip\\_vendor\\pyproject_hooks\\_in_process\\_in_process.py\", line 118, in get_requires_for_build_wheel\n",
      "      return hook(config_settings)\n",
      "    File \"C:\\Users\\mmoussa\\AppData\\Local\\Temp\\pip-build-env-07elwwkx\\overlay\\Lib\\site-packages\\setuptools\\build_meta.py\", line 327, in get_requires_for_build_wheel\n",
      "      return self._get_build_requires(config_settings, requirements=[])\n",
      "    File \"C:\\Users\\mmoussa\\AppData\\Local\\Temp\\pip-build-env-07elwwkx\\overlay\\Lib\\site-packages\\setuptools\\build_meta.py\", line 297, in _get_build_requires\n",
      "      self.run_setup()\n",
      "    File \"C:\\Users\\mmoussa\\AppData\\Local\\Temp\\pip-build-env-07elwwkx\\overlay\\Lib\\site-packages\\setuptools\\build_meta.py\", line 313, in run_setup\n",
      "      exec(code, locals())\n",
      "    File \"<string>\", line 27, in <module>\n",
      "    File \"C:\\Users\\mmoussa\\AppData\\Local\\Temp\\pip-build-env-07elwwkx\\overlay\\Lib\\site-packages\\setuptools\\dist.py\", line 641, in fetch_build_eggs\n",
      "      return _fetch_build_eggs(self, requires)\n",
      "    File \"C:\\Users\\mmoussa\\AppData\\Local\\Temp\\pip-build-env-07elwwkx\\overlay\\Lib\\site-packages\\setuptools\\installer.py\", line 38, in _fetch_build_eggs\n",
      "      resolved_dists = pkg_resources.working_set.resolve(\n",
      "    File \"C:\\Users\\mmoussa\\AppData\\Local\\Temp\\pip-build-env-07elwwkx\\overlay\\Lib\\site-packages\\pkg_resources\\__init__.py\", line 889, in resolve\n",
      "      dist = self._resolve_dist(\n",
      "    File \"C:\\Users\\mmoussa\\AppData\\Local\\Temp\\pip-build-env-07elwwkx\\overlay\\Lib\\site-packages\\pkg_resources\\__init__.py\", line 925, in _resolve_dist\n",
      "      dist = best[req.key] = env.best_match(\n",
      "    File \"C:\\Users\\mmoussa\\AppData\\Local\\Temp\\pip-build-env-07elwwkx\\overlay\\Lib\\site-packages\\pkg_resources\\__init__.py\", line 1256, in best_match\n",
      "      return self.obtain(req, installer)\n",
      "    File \"C:\\Users\\mmoussa\\AppData\\Local\\Temp\\pip-build-env-07elwwkx\\overlay\\Lib\\site-packages\\pkg_resources\\__init__.py\", line 1292, in obtain\n",
      "      return installer(requirement) if installer else None\n",
      "    File \"C:\\Users\\mmoussa\\AppData\\Local\\Temp\\pip-build-env-07elwwkx\\overlay\\Lib\\site-packages\\setuptools\\installer.py\", line 103, in _fetch_build_egg_no_warn\n",
      "      raise DistutilsError(str(e)) from e\n",
      "  distutils.errors.DistutilsError: Command '['c:\\\\users\\\\mmoussa\\\\appdata\\\\local\\\\programs\\\\python\\\\python38\\\\python.exe', '-m', 'pip', '--disable-pip-version-check', 'wheel', '--no-deps', '-w', 'C:\\\\Users\\\\mmoussa\\\\AppData\\\\Local\\\\Temp\\\\tmpgfh1ut3d', '--quiet', 'numpy>=1.21.5']' returned non-zero exit status 1.\n",
      "  [end of output]\n",
      "  \n",
      "  note: This error originates from a subprocess, and is likely not a problem with pip.\n",
      "error: subprocess-exited-with-error\n",
      "\n",
      "Getting requirements to build wheel did not run successfully.\n",
      "exit code: 1\n",
      "\n",
      "See above for output.\n",
      "\n",
      "note: This error originates from a subprocess, and is likely not a problem with pip.\n",
      "\n",
      "[notice] A new release of pip is available: 23.3.2 -> 24.1.2\n",
      "[notice] To update, run: c:\\users\\mmoussa\\appdata\\local\\programs\\python\\python38\\python.exe -m pip install --upgrade pip\n"
     ]
    }
   ],
   "source": [
    "%pip install cyipopt"
   ]
  },
  {
   "cell_type": "code",
   "execution_count": 2,
   "id": "5f325b1a-dc59-44e8-964c-b2af637974c8",
   "metadata": {},
   "outputs": [
    {
     "name": "stdout",
     "output_type": "stream",
     "text": [
      "Ipopt 3.12.13: \n",
      "\n",
      "******************************************************************************\n",
      "This program contains Ipopt, a library for large-scale nonlinear optimization.\n",
      " Ipopt is released as open source code under the Eclipse Public License (EPL).\n",
      "         For more information visit http://projects.coin-or.org/Ipopt\n",
      "******************************************************************************\n",
      "\n",
      "This is Ipopt version 3.12.13, running with linear solver mumps.\n",
      "NOTE: Other linear solvers might be more efficient (see Ipopt documentation).\n",
      "\n",
      "Number of nonzeros in equality constraint Jacobian...:        2\n",
      "Number of nonzeros in inequality constraint Jacobian.:        0\n",
      "Number of nonzeros in Lagrangian Hessian.............:        2\n",
      "\n",
      "Total number of variables............................:        2\n",
      "                     variables with only lower bounds:        0\n",
      "                variables with lower and upper bounds:        0\n",
      "                     variables with only upper bounds:        0\n",
      "Total number of equality constraints.................:        1\n",
      "Total number of inequality constraints...............:        0\n",
      "        inequality constraints with only lower bounds:        0\n",
      "   inequality constraints with lower and upper bounds:        0\n",
      "        inequality constraints with only upper bounds:        0\n",
      "\n",
      "iter    objective    inf_pr   inf_du lg(mu)  ||d||  lg(rg) alpha_du alpha_pr  ls\n",
      "   0  5.0000000e+00 1.00e+00 1.00e+00  -1.0 0.00e+00    -  0.00e+00 0.00e+00   0\n",
      "   1  2.0000000e+00 0.00e+00 0.00e+00  -1.7 1.00e+00    -  1.00e+00 1.00e+00f  1\n",
      "\n",
      "Number of Iterations....: 1\n",
      "\n",
      "                                   (scaled)                 (unscaled)\n",
      "Objective...............:   2.0000000000000000e+00    2.0000000000000000e+00\n",
      "Dual infeasibility......:   0.0000000000000000e+00    0.0000000000000000e+00\n",
      "Constraint violation....:   0.0000000000000000e+00    0.0000000000000000e+00\n",
      "Complementarity.........:   0.0000000000000000e+00    0.0000000000000000e+00\n",
      "Overall NLP error.......:   0.0000000000000000e+00    0.0000000000000000e+00\n",
      "\n",
      "\n",
      "Number of objective function evaluations             = 2\n",
      "Number of objective gradient evaluations             = 2\n",
      "Number of equality constraint evaluations            = 2\n",
      "Number of inequality constraint evaluations          = 0\n",
      "Number of equality constraint Jacobian evaluations   = 2\n",
      "Number of inequality constraint Jacobian evaluations = 0\n",
      "Number of Lagrangian Hessian evaluations             = 1\n",
      "Total CPU secs in IPOPT (w/o function evaluations)   =      0.002\n",
      "Total CPU secs in NLP function evaluations           =      0.000\n",
      "\n",
      "EXIT: Optimal Solution Found.\n",
      "\b \n",
      "Ipopt 3.12.13: Optimal Solution Found\n",
      "\n",
      "suffix ipopt_zU_out OUT;\n",
      "suffix ipopt_zL_out OUT;\n",
      "Solution:\n",
      "   x.val\n",
      "1      0\n",
      "2      1\n",
      "Objective value: 2.0\n"
     ]
    }
   ],
   "source": [
    "from amplpy import AMPL\n",
    "\n",
    "def solve_ampl_optimization():\n",
    "    # Create an AMPL instance\n",
    "    ampl = AMPL()\n",
    "    \n",
    "    # Set the solver to use IPOPT\n",
    "    ampl.set_option(\"solver\", \"ipopt\")\n",
    "    \n",
    "    # Define the AMPL model\n",
    "    ampl.eval(\"\"\"\n",
    "    param n := 2;\n",
    "\n",
    "    var x {1..n};\n",
    "\n",
    "    minimize obj:\n",
    "        (x[1] - 1)^2 + (x[2] - 2)^2;\n",
    "\n",
    "    subject to constraint:\n",
    "        x[1] + x[2] = 1;\n",
    "    \"\"\")\n",
    "    \n",
    "    # Solve the problem\n",
    "    ampl.solve()\n",
    "    \n",
    "    # Get the results\n",
    "    x = ampl.get_variable('x').get_values().to_pandas()\n",
    "    obj_value = ampl.get_objective('obj').value()\n",
    "    \n",
    "    # Print the results\n",
    "    print(\"Solution:\")\n",
    "    print(x)\n",
    "    print(f\"Objective value: {obj_value}\")\n",
    "\n",
    "# Example usage\n",
    "solve_ampl_optimization()\n"
   ]
  },
  {
   "cell_type": "code",
   "execution_count": 7,
   "id": "e0da82b6-6328-47eb-9677-f54993bbaade",
   "metadata": {},
   "outputs": [
    {
     "name": "stdout",
     "output_type": "stream",
     "text": [
      "Solution determined by presolve;\n",
      "objective obj = 1.\n",
      "Solution:\n",
      "   x.val\n",
      "1      1\n",
      "2      1\n",
      "Objective value: 1.0\n"
     ]
    }
   ],
   "source": [
    "from amplpy import AMPL\n",
    "\n",
    "def solve_sparse_optimization():\n",
    "    # Create an AMPL instance\n",
    "    ampl = AMPL()\n",
    "    \n",
    "    # Set the solver to use IPOPT\n",
    "    ampl.set_option(\"solver\", \"ipopt\")\n",
    "    \n",
    "    # Define the AMPL model with placeholders for sparse matrix\n",
    "    ampl.eval(\"\"\"\n",
    "    param n;\n",
    "\n",
    "    set Aline;\n",
    "    param AColInd {Aline} >= 1;\n",
    "    param ALineInd {Aline} >= 1;\n",
    "    param AVal {Aline};\n",
    "\n",
    "    var x {1..n};\n",
    "\n",
    "    minimize obj:\n",
    "        sum {i in 1..n} (x[i] - i)^2;\n",
    "\n",
    "    subject to constraint {i in Aline}:\n",
    "        AVal[i] * x[AColInd[i]] = 1;\n",
    "    \"\"\")\n",
    "\n",
    "    # Define problem size\n",
    "    n = 2\n",
    "\n",
    "    # Define sparse matrix in lists\n",
    "    matrices_coef = [1, 1]\n",
    "    matrices_row = [0, 0]\n",
    "    matrices_col = [0, 1]\n",
    "\n",
    "    # Convert to 1-based indexing for AMPL\n",
    "    ampl_matrices_row = [index + 1 for index in matrices_row]\n",
    "    ampl_matrices_col = [index + 1 for index in matrices_col]\n",
    "    \n",
    "    # Assign data to AMPL parameters\n",
    "    ampl.param['n'] = n\n",
    "    ampl.set['Aline'] = range(1, len(matrices_coef) + 1)\n",
    "    ampl.param['AColInd'] = {i+1: ampl_matrices_col[i] for i in range(len(ampl_matrices_col))}\n",
    "    ampl.param['ALineInd'] = {i+1: ampl_matrices_row[i] for i in range(len(ampl_matrices_row))}\n",
    "    ampl.param['AVal'] = {i+1: matrices_coef[i] for i in range(len(matrices_coef))}\n",
    "\n",
    "    # Solve the problem\n",
    "    ampl.solve()\n",
    "    \n",
    "    # Get the results\n",
    "    x = ampl.get_variable('x').get_values().to_pandas()\n",
    "    obj_value = ampl.get_objective('obj').value()\n",
    "    \n",
    "    # Print the results\n",
    "    print(\"Solution:\")\n",
    "    print(x)\n",
    "    print(f\"Objective value: {obj_value}\")\n",
    "\n",
    "# Example usage\n",
    "solve_sparse_optimization()\n"
   ]
  },
  {
   "cell_type": "code",
   "execution_count": 8,
   "id": "21fb3dcd-ddeb-48a3-81f2-bde598cf4575",
   "metadata": {},
   "outputs": [
    {
     "ename": "ModuleNotFoundError",
     "evalue": "No module named 'openpyxl'",
     "output_type": "error",
     "traceback": [
      "\u001b[1;31m---------------------------------------------------------------------------\u001b[0m",
      "\u001b[1;31mModuleNotFoundError\u001b[0m                       Traceback (most recent call last)",
      "Cell \u001b[1;32mIn[8], line 1\u001b[0m\n\u001b[1;32m----> 1\u001b[0m \u001b[38;5;28;01mimport\u001b[39;00m \u001b[38;5;21;01mopenpyxl\u001b[39;00m\n",
      "\u001b[1;31mModuleNotFoundError\u001b[0m: No module named 'openpyxl'"
     ]
    }
   ],
   "source": [
    "import openpyxl"
   ]
  },
  {
   "cell_type": "code",
   "execution_count": 9,
   "id": "13443067-4936-4739-a829-36cbc9989e9d",
   "metadata": {},
   "outputs": [
    {
     "name": "stdout",
     "output_type": "stream",
     "text": [
      "Collecting openpyxl\n",
      "  Downloading openpyxl-3.1.5-py2.py3-none-any.whl.metadata (2.5 kB)\n",
      "Collecting et-xmlfile (from openpyxl)\n",
      "  Downloading et_xmlfile-1.1.0-py3-none-any.whl.metadata (1.8 kB)\n",
      "Downloading openpyxl-3.1.5-py2.py3-none-any.whl (250 kB)\n",
      "   ---------------------------------------- 0.0/250.9 kB ? eta -:--:--\n",
      "   ---------------------------------------  245.8/250.9 kB 7.6 MB/s eta 0:00:01\n",
      "   ---------------------------------------- 250.9/250.9 kB 5.2 MB/s eta 0:00:00\n",
      "Downloading et_xmlfile-1.1.0-py3-none-any.whl (4.7 kB)\n",
      "Installing collected packages: et-xmlfile, openpyxl\n",
      "Successfully installed et-xmlfile-1.1.0 openpyxl-3.1.5\n",
      "Note: you may need to restart the kernel to use updated packages.\n"
     ]
    },
    {
     "name": "stderr",
     "output_type": "stream",
     "text": [
      "\n",
      "[notice] A new release of pip is available: 23.3.2 -> 24.1.2\n",
      "[notice] To update, run: c:\\users\\mmoussa\\appdata\\local\\programs\\python\\python38\\python.exe -m pip install --upgrade pip\n"
     ]
    }
   ],
   "source": [
    "%pip install openpyxl"
   ]
  },
  {
   "cell_type": "code",
   "execution_count": 13,
   "id": "73211639-7b2a-41d0-91a3-28fb2e531825",
   "metadata": {},
   "outputs": [
    {
     "name": "stdout",
     "output_type": "stream",
     "text": [
      "found\n",
      "[2, 1]\n"
     ]
    }
   ],
   "source": [
    "def add(i,j):\n",
    "    if i == 0:\n",
    "        print(\"found\")\n",
    "        j += [1]\n",
    "i = 0\n",
    "j = [2]\n",
    "add(i,j)\n",
    "print(j)"
   ]
  },
  {
   "cell_type": "code",
   "execution_count": 15,
   "id": "b2b49bfa-3e2d-42f7-8fc1-ada52aaace22",
   "metadata": {},
   "outputs": [
    {
     "name": "stdout",
     "output_type": "stream",
     "text": [
      "3\n",
      "4\n",
      "1\n",
      "3\n",
      "4\n",
      "2\n"
     ]
    }
   ],
   "source": [
    "for i in [1,2]:\n",
    "    for j in [3,4]:\n",
    "        print(j)\n",
    "    print(i)"
   ]
  },
  {
   "cell_type": "code",
   "execution_count": 16,
   "id": "99edc35b-4386-4b09-b75c-e52780a0a0b3",
   "metadata": {},
   "outputs": [
    {
     "name": "stdout",
     "output_type": "stream",
     "text": [
      "Updated Array: [[1, 2], [3, 4], [5, 6]]\n",
      "Position: 1\n",
      "Updated Array: [[1, 2], [3, 4], [5, 6], [7, 8]]\n",
      "Position: 3\n"
     ]
    }
   ],
   "source": [
    "def check_add_point(array, point):\n",
    "    # Check if the point already exists in the array\n",
    "    point_exists = [a == point for a in array]\n",
    "    \n",
    "    if any(point_exists):\n",
    "        # If the point exists, find its index\n",
    "        position = point_exists.index(True)\n",
    "        return array, position\n",
    "    else:\n",
    "        # If the point does not exist, add it to the array\n",
    "        array.append(point)\n",
    "        # Return the updated array and the new point's position\n",
    "        return array, len(array) - 1\n",
    "\n",
    "# Example usage\n",
    "array = [[1, 2], [3, 4], [5, 6]]\n",
    "point = [3, 4]\n",
    "array, position = check_add_point(array, point)\n",
    "print(\"Updated Array:\", array)\n",
    "print(\"Position:\", position)\n",
    "\n",
    "point = [7, 8]\n",
    "array, position = check_add_point(array, point)\n",
    "print(\"Updated Array:\", array)\n",
    "print(\"Position:\", position)\n"
   ]
  },
  {
   "cell_type": "code",
   "execution_count": 21,
   "id": "48a66578-413a-4692-9b63-c81e71eb1700",
   "metadata": {},
   "outputs": [
    {
     "name": "stdout",
     "output_type": "stream",
     "text": [
      "1 2 1 3\n"
     ]
    }
   ],
   "source": [
    "sublist = [[1,2],[1,3]]\n",
    "if isinstance(sublist[0], list):  # Check if the first element is a list (nested)\n",
    "    flattened = [str(item) for inner_list in sublist for item in inner_list]\n",
    "    line = ' '.join(flattened)\n",
    "else:\n",
    "    line = ' '.join(map(str, sublist))\n",
    "\n",
    "print(line)"
   ]
  },
  {
   "cell_type": "code",
   "execution_count": null,
   "id": "f5c00b01-db44-4ecb-b629-3c2ae4d9ba71",
   "metadata": {},
   "outputs": [],
   "source": []
  }
 ],
 "metadata": {
  "kernelspec": {
   "display_name": "Python 3 (ipykernel)",
   "language": "python",
   "name": "python3"
  },
  "language_info": {
   "codemirror_mode": {
    "name": "ipython",
    "version": 3
   },
   "file_extension": ".py",
   "mimetype": "text/x-python",
   "name": "python",
   "nbconvert_exporter": "python",
   "pygments_lexer": "ipython3",
   "version": "3.8.10"
  }
 },
 "nbformat": 4,
 "nbformat_minor": 5
}
